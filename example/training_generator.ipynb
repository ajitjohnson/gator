{
 "cells": [
  {
   "cell_type": "code",
   "execution_count": 1,
   "metadata": {},
   "outputs": [],
   "source": [
    "# import packages\n",
    "import gator as ga\n",
    "import os"
   ]
  },
  {
   "cell_type": "code",
   "execution_count": 2,
   "metadata": {},
   "outputs": [],
   "source": [
    "# tonsil\n",
    "#marker = 'KI67'\n",
    "#image = '//research.files.med.harvard.edu/ImStor/sorger/data/RareCyte/ajit_johnson/Z121_AJ_Cycif_trial_run/Ton_378/registration/Ton_378_wo_cycle9.ome.tif'\n",
    "#quantification = '//research.files.med.harvard.edu/ImStor/sorger/data/RareCyte/ajit_johnson/Z121_AJ_Cycif_trial_run/Ton_378/quantification/Ton_378.csv'\n",
    "#segmentation = '//research.files.med.harvard.edu/ImStor/sorger/data/RareCyte/ajit_johnson/Z121_AJ_Cycif_trial_run/Ton_378/segmentation/Ton_378/cellRingMask.tif'\n",
    "\n",
    "# sardana\n",
    "image = 'Z:/sorger/data/RareCyte/JL503_JERRY/TNP_2020/WD-76845-097.ome.tif'\n",
    "quantification = 'Z:/sorger/analysis/SARDANA-097/quantification/cell-WD-76845-097.csv'\n",
    "segmentation = 'Z:/sorger/analysis/SARDANA-097/segmentation/unmicst-WD-76845-097/cellRingMask.tif'"
   ]
  },
  {
   "cell_type": "code",
   "execution_count": 3,
   "metadata": {},
   "outputs": [],
   "source": [
    "outputDir = 'C:/Users/ajn16/Dropbox (Partners HealthCare)/Data/gator/data/ajn_training_data'\n",
    "#outputDir = '/Users/aj/Dropbox (Partners HealthCare)/Data/gator/data/ajn_training_data'"
   ]
  },
  {
   "cell_type": "markdown",
   "metadata": {},
   "source": [
    "## Step-1: Generate Thumbnails for Training Data"
   ]
  },
  {
   "cell_type": "code",
   "execution_count": 6,
   "metadata": {},
   "outputs": [
    {
     "name": "stdout",
     "output_type": "stream",
     "text": [
      "Processing Marker: CD4_488_cellRingMask\n",
      "Processing Marker: CD45_PE_cellRingMask\n",
      "Processing Marker: CD8a_660_cellRingMask\n",
      "Processing Marker: Ecad_488_cellRingMask\n",
      "Mission Accomplished\n"
     ]
    }
   ],
   "source": [
    "ga.generateThumbnails (csvPath=quantification, \n",
    "                        imagePath=image, \n",
    "                        markers = [\"CD4_488_cellRingMask\", \"CD45_PE_cellRingMask\", \"CD8a_660_cellRingMask\", \"Ecad_488_cellRingMask\"], \n",
    "                        markerChannels = [18, 19, 24, 30], \n",
    "                        outputDir=outputDir,\n",
    "                        transformation=True, \n",
    "                        maxThumbnails=2000, \n",
    "                        localNorm=True,\n",
    "                        globalNorm=False,\n",
    "                        x_coordinate='X_centroid', \n",
    "                        y_coordinate='Y_centroid',\n",
    "                        threshold=[2, 12, 88, 98], \n",
    "                        windowSize=64)"
   ]
  },
  {
   "cell_type": "code",
   "execution_count": 4,
   "metadata": {},
   "outputs": [
    {
     "name": "stdout",
     "output_type": "stream",
     "text": [
      "Processing: KI67\n"
     ]
    }
   ],
   "source": [
    "marker = 'CD4_488_cellRingMask'\n",
    "# list of folders to copy settings from\n",
    "copyFolder = [outputDir + '/GATOR/Thumbnails/localNorm/' + marker]\n",
    "# list of folders to apply setting to\n",
    "applyFolder = [outputDir + '/GATOR/Thumbnails/' + marker]\n",
    "# note: Every copyFolder should have a corresponding applyFolder. The order matters! \n",
    "\n",
    "# The function accepts the four pre-defined folders. If you had renamed them, please change it using the parameter below.\n",
    "ga.cloneFolder (copyFolder, \n",
    "                applyFolder, \n",
    "                TruePos='TruePos', TrueNeg='TrueNeg', \n",
    "                PosToNeg='PosToNeg', NegToPos='NegToPos')"
   ]
  },
  {
   "cell_type": "code",
   "execution_count": 5,
   "metadata": {},
   "outputs": [
    {
     "name": "stdout",
     "output_type": "stream",
     "text": [
      "Processing: KI67\n",
      "Mission Accomplished\n"
     ]
    }
   ],
   "source": [
    "# generate masks\n",
    "thumbnailFolder = [outputDir + '/GATOR/Thumbnails/' + marker]\n",
    "\n",
    "# The function accepts the four pre-defined folders. If you had renamed them, please change it using the parameter below.\n",
    "# If you had deleted any of the folders and are not using them, replace the folder name with `None` in the parameter.\n",
    "ga.generateTraining (thumbnailFolder, \n",
    "                     outputDir, \n",
    "                     file_extension=None,\n",
    "                     TruePos='TruePos', NegToPos='NegToPos',\n",
    "                     TrueNeg='TrueNeg', PosToNeg='PosToNeg')"
   ]
  }
 ],
 "metadata": {
  "kernelspec": {
   "display_name": "Python 3.9.12 ('gator')",
   "language": "python",
   "name": "python3"
  },
  "language_info": {
   "codemirror_mode": {
    "name": "ipython",
    "version": 3
   },
   "file_extension": ".py",
   "mimetype": "text/x-python",
   "name": "python",
   "nbconvert_exporter": "python",
   "pygments_lexer": "ipython3",
   "version": "3.9.12"
  },
  "orig_nbformat": 4,
  "vscode": {
   "interpreter": {
    "hash": "b155a34da96f173027cc83af6ba86a1d662c2b9e09ee27c56baf0fff8044d14a"
   }
  }
 },
 "nbformat": 4,
 "nbformat_minor": 2
}
